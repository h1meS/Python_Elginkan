{
 "cells": [
  {
   "cell_type": "code",
   "execution_count": null,
   "metadata": {},
   "outputs": [],
   "source": [
    "import sqlite3 as sql \n",
    "\n",
    "vt=sql.connect(\"ogretmen.sqlite\")\n",
    "im=vt.cursor()\n",
    "im.execute(\"UPDATE personel SET isim='Hüseyin' WHERE id=2 \")\n",
    "vt.commit()\n",
    "vt.close()"
   ]
  },
  {
   "cell_type": "code",
   "execution_count": null,
   "metadata": {},
   "outputs": [],
   "source": [
    "liste1=['ogrenci','ogretmen','veli']\n",
    "liste2=['ortalama','brans','adres']\n",
    "for i in range(0,3):\n",
    "    komut=f\"CREATE TABLE {liste1[i]}(id,isim,{liste2[i]})\"\n",
    "    im.execute(komut)"
   ]
  },
  {
   "cell_type": "code",
   "execution_count": null,
   "metadata": {},
   "outputs": [],
   "source": [
    "komut1=\"CREATE TABLE IF NOT EXISTS ogrenci(ID,isim,ortalama)\"\n",
    "komut2=\"CREATE TABLE IF NOT EXISTS ogretmen(ID,isim,brans)\"\n",
    "komut3=\"CREATE TABLE IF NOT EXISTS veli(ID,isim,adres)\"\n",
    "im.execute(komut1)\n",
    "im.execute(komut2)\n",
    "im.execute(komut3)\n",
    "komut4=\"INSERT INTO ogrenci(ID,isim,ortalama) VALUES (1,'Semih Sarı',85)\"\n",
    "komut5=\"INSERT INTO ogretmen(ID,isim,brans) VALUES (1,'Ozan Alptekin','Python')\"\n",
    "komut6=\"INSERT INTO veli(ID,isim,adres) VALUES (1,'Neşe Sarı','Manisa')\"\n",
    "im.execute(komut4)\n",
    "im.execute(komut5)\n",
    "im.execute(komut6)"
   ]
  },
  {
   "cell_type": "code",
   "execution_count": null,
   "metadata": {},
   "outputs": [],
   "source": [
    "isim=input(\"İsminizi giriniz: \")\n",
    "ortalama=int(input(\"Lütfen ortalamanızı giriniz: \"))\n",
    "komut=\"INSERT INTO ogrenci(isim) VALUES (?)\"\n",
    "im.execute(komut,(isim,))\n",
    "\n",
    "komut=\"SELECT * FROM ogrenci\"\n",
    "komut=\"SELECT * FROM ogrenci WHERE ortalama LIKE '9%'\"\n",
    "verilerim=im.execute(komut).fetchall()\n",
    "print(verilerim)\n",
    "#print(im.fetchone())"
   ]
  },
  {
   "cell_type": "code",
   "execution_count": null,
   "metadata": {},
   "outputs": [],
   "source": [
    "def VeriGir():\n",
    "    vt=sql.connect(\"ogretmen.sqlite\")\n",
    "    im=vt.cursor()\n",
    "    komut=\"CREATE TABLE IF NOT EXISTS personel(id,isim,brans,ders_saati)\"\n",
    "    komut2=\"INSERT INTO personel(id,isim,brans,ders_saati) VALUES (1,'Ozan','Bilgisayar',20)\"\n",
    "    komut3=\"INSERT INTO personel(id,isim,brans,ders_saati) VALUES (2,'Efe','Matematik',10)\"\n",
    "    komut4=\"INSERT INTO personel(id,isim,brans,ders_saati) VALUES (3,'Zeynep','Kimya',25)\"\n",
    "    im.execute(komut)\n",
    "    im.execute(komut2)\n",
    "    im.execute(komut3)\n",
    "    im.execute(komut4)\n",
    "    vt.commit()\n",
    "    vt.close()"
   ]
  },
  {
   "cell_type": "code",
   "execution_count": null,
   "metadata": {},
   "outputs": [],
   "source": [
    "def Arama(islem):\n",
    "    vt=sql.connect(\"ogretmen.sqlite\")\n",
    "    im=vt.cursor()\n",
    "    if islem ==1:\n",
    "        id1=int(input(\"ID giriniz: \"))    \n",
    "        print(im.execute(\"SELECT * FROM personel WHERE id=?\",(id1,)).fetchall())\n",
    "    elif islem==2:\n",
    "        basHarf=input(\"İsmin baş harfini giriniz:\")\n",
    "        print(im.execute(f\"SELECT * FROM personel WHERE isim LIKE '{basHarf}%'\").fetchall())\n",
    "    elif islem ==3:\n",
    "        saat=int(input(\"Ders saati giriniz: \"))\n",
    "        print(im.execute(f\"SELECT * FROM personel WHERE ders_saati > {saat}\").fetchall())\n",
    "    else:\n",
    "        print(\"Yanlış sayı girdiniz\")\n",
    "    vt.commit()\n",
    "    vt.close()\n",
    "#VeriGir()\n",
    "Arama(3)"
   ]
  }
 ],
 "metadata": {
  "kernelspec": {
   "display_name": "Python 3",
   "language": "python",
   "name": "python3"
  },
  "language_info": {
   "name": "python",
   "version": "3.10.8 (tags/v3.10.8:aaaf517, Oct 11 2022, 16:50:30) [MSC v.1933 64 bit (AMD64)]"
  },
  "orig_nbformat": 4,
  "vscode": {
   "interpreter": {
    "hash": "d838ae811a2339c5ac99f228e2b92540d31c293e582cf8d785120c368b9570f2"
   }
  }
 },
 "nbformat": 4,
 "nbformat_minor": 2
}
