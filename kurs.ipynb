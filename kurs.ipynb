{
 "cells": [
  {
   "cell_type": "code",
   "execution_count": 2,
   "metadata": {},
   "outputs": [
    {
     "name": "stdout",
     "output_type": "stream",
     "text": [
      "Sonuç :  3375,"
     ]
    }
   ],
   "source": [
    "sayi=int(input(\"Lütfen sayıyı giriniz: \"))\n",
    "sonuc=sayi**3\n",
    "print(\"Sonuç : \",sonuc,end=\",\")"
   ]
  },
  {
   "cell_type": "code",
   "execution_count": null,
   "metadata": {},
   "outputs": [],
   "source": [
    "sayi1=int(input(\"Lütfen 1. sayıyı giriniz: \"))\n",
    "sayi2=int(input(\"Lütfen 2. sayıyı giriniz: \"))\n",
    "sonuc=sayi1+sayi2\n",
    "#print(sayi1,\"+\",sayi2,\"=\",sonuc)\n",
    "print(\"{0}+{1}={2} İlk sayı {0}, İkinci{1}, Toplamı {2} \".format(sayi1,sayi2,sonuc))"
   ]
  },
  {
   "cell_type": "code",
   "execution_count": null,
   "metadata": {},
   "outputs": [],
   "source": [
    "derece=int(input(\"Lütfen dereceyi giriniz: \"))\n",
    "fahrenheitDerece=derece*1.8+32\n",
    "print(f\"Girilen derece {derece} C idi. Fahrenheit {fahrenheitDerece} = {derece} * 1.8 + 3.2 oldu\")\n",
    "\n",
    "print(\"{:*^20}\".format(\"Menü\"))"
   ]
  },
  {
   "cell_type": "code",
   "execution_count": null,
   "metadata": {},
   "outputs": [],
   "source": [
    "isim=input(\"Lütfen isminizi giriniz: \")\n",
    "yas=int(input(\"Lütfen yaşınızı giriniz: \"))\n",
    "\n",
    "print(f\"Hoşgeldin {isim}, {yas} yaşında olduğunu söylediniz.\")"
   ]
  },
  {
   "cell_type": "code",
   "execution_count": null,
   "metadata": {},
   "outputs": [],
   "source": [
    "uzunKenar=int(input(\"Lütfen uzun kenarı giriniz: \"))\n",
    "kısaKenar=int(input(\"Lütfen kısa kenarı giriniz: \"))\n",
    "\n",
    "print(f\"Uzun kenarı {uzunKenar} cm, kısa kenarı {kısaKenar} cm olan dikdörtgenin çevresi= {2*(kısaKenar+uzunKenar)} cm, alanı= {uzunKenar*kısaKenar} cm karedir\")"
   ]
  },
  {
   "cell_type": "code",
   "execution_count": null,
   "metadata": {},
   "outputs": [],
   "source": [
    "a=int(input(\"Lütfen ilk sayıyı giriniz: \"))\n",
    "b=int(input(\"Lütfen ikinci sayıyı giriniz: \"))\n",
    "\n",
    "print(f\"Toplam: {a+b}, Fark: {a-b}, Çarpım: {a*b}, TamBölme:{a//b}, Mod:{a%b}, Üs: {a**2}\")\n",
    "\n",
    "print(\"Sayı pozitif\") if a>0 else print(\"Sayı negatif\")"
   ]
  },
  {
   "cell_type": "code",
   "execution_count": null,
   "metadata": {},
   "outputs": [],
   "source": [
    "a=int(input(\"Lütfen a sayıyı giriniz: \"))\n",
    "b=int(input(\"Lütfen b sayıyı giriniz: \"))\n",
    "c=int(input(\"Lütfen c sayıyı giriniz: \"))\n",
    "\n",
    "\n",
    "if (a<b):\n",
    "    if(c<b):\n",
    "        print(\"B büyük\")\n",
    "    else:\n",
    "        print(\"C büyük\")\n",
    "elif (a<c):\n",
    "    if(c<b):\n",
    "        print(\"B büyük\")\n",
    "    else:\n",
    "        print(\"C büyük\")\n",
    "elif(b<c):\n",
    "    if(c<a):\n",
    "        print(\"A büyük\")\n",
    "    else:\n",
    "        print(\"C büyük\")"
   ]
  },
  {
   "cell_type": "code",
   "execution_count": null,
   "metadata": {},
   "outputs": [],
   "source": [
    "import random\n",
    "oyunSayi=random.randint(1,100)\n",
    "\n",
    "while True:\n",
    "    tahmin =int(input(\"Lütfen tahmin giriniz: \"))\n",
    "    if(tahmin>oyunSayi):\n",
    "        print(\"küçük sayı seçiniz\")   \n",
    "    elif(tahmin<oyunSayi):\n",
    "        print(\"büyük sayı seçiniz\")\n",
    "    else:\n",
    "        print(\"Tahmin doğru\", tahmin)\n",
    "        break"
   ]
  },
  {
   "cell_type": "code",
   "execution_count": null,
   "metadata": {},
   "outputs": [],
   "source": [
    "vize =int(input(\"Lütfen vize giriniz: \"))\n",
    "final =int(input(\"Lütfen final giriniz: \"))\n",
    "ortalama =int(vize*0.30 +final*0.70)\n",
    "\n",
    "if(ortalama >= 90 ):\n",
    "    print(\"notunuz A:\",ortalama)\n",
    "elif(70 <= ortalama ):\n",
    "    print(\"notunuz B:\",ortalama)\n",
    "elif(50 <= ortalama ):\n",
    "    print(\"notunuz C:\",ortalama)\n",
    "else:\n",
    "    print(\"notunuz F\",ortalama)"
   ]
  },
  {
   "cell_type": "code",
   "execution_count": null,
   "metadata": {},
   "outputs": [],
   "source": [
    "boy = float(input(\"Lütfen m cinsinden boy giriniz: \"))\n",
    "kilo =int(input(\"Lütfen kg cinsinden kilo giriniz: \"))\n",
    "\n",
    "if not(boy//1==1 or boy//1==2):boy/=100\n",
    "indeks= kilo/(boy**2)\n",
    "\n",
    "if indeks<20:BMIGroup=\"zayıf\"\n",
    "elif indeks<25:BMIGroup=\"normal\"\n",
    "elif indeks<30:BMIGroup=\"kilolu\"\n",
    "elif indeks<35:BMIGroup=\"obez\"\n",
    "elif indeks<40:BMIGroup=\"ileri obez\"\n",
    "else:BMIGroup=\"morbid obez\"\n",
    "print(f\"Hesaplamaya göre BMI grubun: {BMIGroup}\")"
   ]
  },
  {
   "cell_type": "code",
   "execution_count": null,
   "metadata": {},
   "outputs": [],
   "source": [
    "#for sayi in range(1000,10000):\n",
    "sayi =int(input(\"Lütfen sayıyı girin: \"))\n",
    "ilkIki=sayi//100\n",
    "sonIki=sayi%100\n",
    "\n",
    "if sayi==(ilkIki+sonIki)**2:print(\"Sayı orijinal\")\n",
    "else:print(\"Sayı orijinal değil\")"
   ]
  },
  {
   "cell_type": "code",
   "execution_count": null,
   "metadata": {},
   "outputs": [],
   "source": [
    "bitis= int(input(\"Lütfen bitiş girin: \"))\n",
    "toplam=1\n",
    "for i in range(1,bitis+1):\n",
    "    toplam*=i\n",
    "print(f\"Sayıların Toplamı: {toplam}\")"
   ]
  },
  {
   "cell_type": "code",
   "execution_count": null,
   "metadata": {},
   "outputs": [],
   "source": [
    "for i in range(1,10):\n",
    "    for j in range(1,10):\n",
    "        print(f\"{i}*{j}={i*j}\")\n",
    "\n",
    "bitis= int(input(\"Lütfen bitiş girin: \"))\n",
    "toplam=0\n",
    "i=0\n",
    "while  i<=bitis:\n",
    "    if i%2==0: \n",
    "     toplam+=i\n",
    "    i+=1\n",
    "    \n",
    "print(f\"Toplam ={toplam}\")"
   ]
  },
  {
   "cell_type": "code",
   "execution_count": null,
   "metadata": {},
   "outputs": [],
   "source": [
    "sayi= int(input(\"Lütfen sayıyı girin: \"))\n",
    "sayiAsalMi=True\n",
    "for i in range(2,sayi//2+1):\n",
    "    if (sayi%i==0):\n",
    "        print(\"Sayı asal değil\")\n",
    "        break\n",
    "else:\n",
    "    print(\"Sayı asal\")"
   ]
  },
  {
   "cell_type": "code",
   "execution_count": null,
   "metadata": {},
   "outputs": [],
   "source": [
    "for sayi in range(2,1001):\n",
    "    for i in range(2,sayi//2+1): #int((sayi**1/2))+1\n",
    "        if sayi%i==0:break\n",
    "    else:print(sayi)"
   ]
  },
  {
   "cell_type": "code",
   "execution_count": null,
   "metadata": {},
   "outputs": [],
   "source": [
    "sayi= int(input(\"Lütfen sayıyı girin: \"))\n",
    "\n",
    "tekToplam=0\n",
    "ciftToplam=0\n",
    "\n",
    "for i in range(1,sayi+1):\n",
    "    if(i%2==0):\n",
    "        ciftToplam+=i\n",
    "    else:\n",
    "        tekToplam+=i\n",
    "\n",
    "print(f\"total={tekToplam+ciftToplam}\")"
   ]
  },
  {
   "cell_type": "code",
   "execution_count": null,
   "metadata": {},
   "outputs": [],
   "source": [
    "import random \n",
    "a=random.randint(0,4)\n",
    "fal=[\"bugun kötü bir gün\",\"bugün iyi bir gün\",\"para gelicek\",\"para çıkıcak\",\"hava yarın yağmurlu\"]\n",
    "\n",
    "print(f\"bugünün falı: {fal[a]}\")"
   ]
  },
  {
   "cell_type": "code",
   "execution_count": null,
   "metadata": {},
   "outputs": [],
   "source": [
    "print(\"********MENU**********\")\n",
    "\n",
    "isim=[\"Ahmet\",\"Mehmet\",\"Ali\",\"Yusuf\",\"Tarık\"]\n",
    "maas=[7000,9000,15000,5500,22000]\n",
    "\n",
    "sayi= int(input(\"Lütfen yapmak işlediğiniz işlemi girin: \"))\n",
    "\n",
    "if sayi==1:\n",
    "    toplam=0\n",
    "    for i in range(0,len(maas)):\n",
    "        toplam+=maas[i]\n",
    "    print(f\"Toplam Maaş= {toplam} Ortalama Maaş:{toplam/len(maas)}\")    \n",
    "elif sayi==2:\n",
    "    ad= input(\"Lütfen maaşı görmek istedeiğiniz kişinin ismini girin: \")\n",
    "    for index,element in enumerate(isim):\n",
    "        if ad==element:\n",
    "            print(f\"{isim[index]} adlı kişinin maaşı {maas[index]}\")\n",
    "            break\n",
    "elif sayi==3:\n",
    "    for i in range(0,len(maas)):\n",
    "        max=0\n",
    "        if maas[i]>maas[i-1]:\n",
    "            max=maas[i]\n",
    "        min=0 \n",
    "        if maas[i]>maas[i-1]:\n",
    "            min=maas[i-1]\n",
    "    print(f\"Maximum Maaş: {max}\")\n",
    "    print(f\"Maximum Maaş: {min}\")\n",
    "else: print(\"Yanlış sayı girdiniz\")"
   ]
  },
  {
   "cell_type": "code",
   "execution_count": null,
   "metadata": {},
   "outputs": [],
   "source": [
    "sozluk={\"Hi\":\"Hello\",\"Apple\":\"Elma\",\"Mouse\":\"Fare\",\"Computer\":\"Bilgisayar\"}\n",
    "\n",
    "kelime= input(\"Lütfen kelimeyi giriniz: \")\n",
    "print(f\"Kelimenin türkçesi: {sozluk[kelime]}\")"
   ]
  },
  {
   "cell_type": "code",
   "execution_count": null,
   "metadata": {},
   "outputs": [],
   "source": [
    "cumle=input(\"Lütfen kelimeyi giriniz: \").lower()\n",
    "#harf=input(\"Lütfen harfi giriniz: \")\n",
    "#print(cumle.count(harf))\n",
    "\n",
    "harfler=set(cumle)\n",
    "for i in harfler:\n",
    "    print(f\"{i} karakterinden {cumle.count(i)}\")"
   ]
  },
  {
   "cell_type": "code",
   "execution_count": null,
   "metadata": {},
   "outputs": [],
   "source": [
    "kelime=input(\"Lütfen kelimeyi giriniz: \").lower()\n",
    "#ters=kelime[::-1]\n",
    "#print(ters)\n",
    "#if kelime==ters:print(\"true\")\n",
    "#else:print(\"false\")\n",
    "\n",
    "for i in range(0,len(kelime)//2):\n",
    "    if kelime[i]!=kelime[len(kelime)-i-1]:\n",
    "        print(\"Polindrom değil\") \n",
    "        break\n",
    "else:print(\"Kelime polindrome\")"
   ]
  },
  {
   "cell_type": "code",
   "execution_count": null,
   "metadata": {},
   "outputs": [],
   "source": [
    "import random\n",
    "\n",
    "liste=[random.randint(1,100) for i in range(25)]\n",
    "sayi=int(input(\"Lütfen kelimeyi giriniz: \"))\n",
    "liste.append(sayi)\n",
    "liste.sort(reverse=True)\n",
    "print(liste)\n",
    "print(liste.index(sayi))"
   ]
  },
  {
   "cell_type": "code",
   "execution_count": null,
   "metadata": {},
   "outputs": [],
   "source": [
    "def RastgeleListeOlustur(sayi,aralik1,aralik2):\n",
    "    import random\n",
    "    liste=[random.randint(aralik1,aralik2) for i in range(sayi)]\n",
    "    return liste \n",
    "\n",
    "x=int(input(\"Lütfen sayıyı giriniz: \"))\n",
    "y=int(input(\"Lütfen başlangıçı giriniz: \"))\n",
    "z=int(input(\"Lütfen bitişi giriniz: \"))\n",
    "listem=RastgeleListeOlustur(x,y,z)\n",
    "print(listem)"
   ]
  },
  {
   "cell_type": "code",
   "execution_count": null,
   "metadata": {},
   "outputs": [],
   "source": [
    "def rastgeleListeOlustur():\n",
    "    import random\n",
    "    liste=[random.randint(random.randint(1,25),random.randint(25,50)) for i in range(random.randint(1,25))]\n",
    "    return liste\n",
    "\n",
    "def minMaxHesapla(listem):\n",
    "    listem.sort()\n",
    "    return listem[len(listem)-1],listem[0],len(listem)\n",
    "\n",
    "listem=rastgeleListeOlustur()\n",
    "print(listem)\n",
    "minMaxHesapla(listem)\n",
    "print(f\"Uzunluk: {len(listem)} \\nEn büyük değer: {listem[len(listem)-1]} \\nEn küçük değer: {listem[0]}\" )"
   ]
  },
  {
   "cell_type": "code",
   "execution_count": null,
   "metadata": {},
   "outputs": [],
   "source": [
    "def mesajYaz(mesaj):\n",
    "    print(mesaj)\n",
    "\n",
    "mesajYaz(input(\"Lütfen kelimeyi giriniz: \"))\n",
    "\n",
    "\n",
    "def kareFarkiHesapla(sayi1,sayi2):\n",
    "    return(sayi1**2-sayi2**2)\n",
    "\n",
    "print(f\"İki Kare Farkı: \",kareFarkiHesapla(int(input(\"Lütfen kelimeyi giriniz: \")),int(input(\"Lütfen kelimeyi giriniz: \"))))"
   ]
  },
  {
   "cell_type": "code",
   "execution_count": null,
   "metadata": {},
   "outputs": [],
   "source": [
    "def faktoriyel(n):\n",
    "    toplam=1\n",
    "    for n in range(1,n+1):\n",
    "        toplam*=n\n",
    "    return toplam\n",
    "\n",
    "def kombinasyon(n,r):\n",
    "    return faktoriyel(n)//(faktoriyel(r)*faktoriyel(n-r))\n",
    "\n",
    "print(faktoriyel(5))\n",
    "print(kombinasyon(5,3)"
   ]
  },
  {
   "cell_type": "code",
   "execution_count": null,
   "metadata": {},
   "outputs": [],
   "source": [
    "def toplama(a,b):\n",
    "    return a+b\n",
    "def cıkarma(a,b):\n",
    "    return a-b\n",
    "def carpma(a,b):\n",
    "    return a*b\n",
    "def bolme(a,b):\n",
    "    return a/b\n",
    "\n",
    "a=int((input(\"Lütfen a sayısını giriniz: \")))\n",
    "b=int((input(\"Lütfen b sayısını giriniz: \")))\n",
    "print(\"1 Toplama \\n2 Çıkarma \\n3 Çarpma \\n4 Bölme\")\n",
    "islem=int((input(\"Lütfen yapmak istedeğiniz işlemi seçiniz giriniz: \")))\n",
    "\n",
    "if(islem==1):\n",
    "    print(toplama(a,b))\n",
    "if(islem==2):\n",
    "    print(cıkarma(a,b))\n",
    "if(islem==3):\n",
    "    print(carpma(a,b))\n",
    "if(islem==4):\n",
    "    print(bolme(a,b)) "
   ]
  },
  {
   "cell_type": "code",
   "execution_count": null,
   "metadata": {},
   "outputs": [],
   "source": [
    "while True:\n",
    "    try:\n",
    "        sayi1=int((input(\"Lütfen bölünen sayısını giriniz: \")))\n",
    "        sayi2=int((input(\"Lütfen bölen sayısını giriniz: \")))\n",
    "        print(sayi1/sayi2)\n",
    "    except ZeroDivisionError:\n",
    "        print(\"Hiç bir sayı sıfıra bölünemez\")\n",
    "    except ValueError:\n",
    "        print(\"Lütfen tam  sayı giriniz\")\n",
    "    else:\n",
    "        print(\"Herhangi bir hata oluşmadı\")\n",
    "    finally:\n",
    "        print(\"program sonlandırıldı\")\n",
    "\n",
    "dosya=open(r\"a.txt\")\n",
    "satirlar=dosya.readlines()\n",
    "print(type(satirlar))\n",
    "print(satirlar)\n",
    "dosya.close()"
   ]
  },
  {
   "cell_type": "code",
   "execution_count": null,
   "metadata": {},
   "outputs": [],
   "source": [
    "for satir in open(r\"a.txt\"):\n",
    "    print(satir)\n",
    "\n",
    "\n",
    "with open(r\"b.txt\",\"a\") as dosya:\n",
    "    dosya.write(\"2. Merhaba Dünya \\n\")"
   ]
  },
  {
   "cell_type": "code",
   "execution_count": null,
   "metadata": {},
   "outputs": [],
   "source": [
    "try:\n",
    "    isim=input(\"Lütfen adınızı giriniz: \")\n",
    "    soyisim=input(\"Lütfen soyadınızı giriniz: \")\n",
    "    numara=int(input(\"Lütfen telefon numarası giriniz: \"))\n",
    "    with open(r\"telefon_rehberi.txt\",\"a\") as dosya:\n",
    "        dosya.write(f\"{isim} {soyisim} {numara}\\n\")\n",
    "except ValueError:\n",
    "    print(\"Telefon numarası sadece sayılardan oluşabilir\")\n",
    "except:\n",
    "    print(\"Dosya kayıt işlemi gerçekleşmedi!!!\")\n",
    "else:\n",
    "    print(\"Dosya kayıt işlemi başarılı :D\")\n",
    "finally:\n",
    "    print(\"Program sonlandırıldı...\")  "
   ]
  },
  {
   "cell_type": "code",
   "execution_count": null,
   "metadata": {},
   "outputs": [],
   "source": [
    "from os import remove as sil\n",
    "try:\n",
    "    sil(r\"a.txt\")\n",
    "except FileNotFoundError:\n",
    "    print(\"Dosya Bulunamadı\")\n",
    "else:\n",
    "    print(\"Silme işlemi tamamlandı\")\n",
    "\n",
    "import os"
   ]
  },
  {
   "cell_type": "code",
   "execution_count": null,
   "metadata": {},
   "outputs": [],
   "source": [
    "try:\n",
    "    ad=\"Semih\"\n",
    "    soyad=\"Sari\"\n",
    "    tel=\"0538465\"\n",
    "    if os.path.exists(\"ornek.txt\")==True:\n",
    "        mode=\"a\"\n",
    "    else: mode=\"w\"\n",
    "    with open(r\"ornek.txt\",mode)as dosya:\n",
    "        dosya.write(f\"{ad} {soyad} {tel}\\n\")\n",
    "except:\n",
    "    print(\"Hata..\")"
   ]
  },
  {
   "cell_type": "code",
   "execution_count": null,
   "metadata": {},
   "outputs": [],
   "source": [
    "import xml.etree.ElementTree as ET\n",
    "\n",
    "object1=ET.parse(r\"deneme.xml\")\n",
    "kok=object1.getroot()\n",
    "print(kok[1].find('yazar').text)"
   ]
  },
  {
   "cell_type": "code",
   "execution_count": null,
   "metadata": {},
   "outputs": [],
   "source": [
    "sozluk={\"ad\":\"Semih\",\"soyad\":\"Sarı\",\"eğitim\":\"Lisans\"}\n",
    "with open (r\"deneme.json\",\"w\") as dosya:\n",
    "    dosya.writelines(json.dumps(sozluk))\n",
    "\n",
    "with open (r\"deneme.json\",\"r\") as dosya:\n",
    "    veriler=json.load(dosya)\n",
    "print(veriler)\n",
    "print(type(veriler))"
   ]
  },
  {
   "cell_type": "code",
   "execution_count": null,
   "metadata": {},
   "outputs": [],
   "source": [
    "sozluk={\"1\":{\"isim\":\"Semih Sarı\",\"meslek\":\"Bilgisayar Mühendisi\",\"eğitim\":\"Lisans\"},\n",
    "        \"2\":{\"isim\":\"Ahmet Yaşar\",\"meslek\":\"Doktor\",\"eğitim\":\"Doktora\"}\n",
    "}\n",
    "\n",
    "print(sozluk[\"1\"])"
   ]
  },
  {
   "cell_type": "code",
   "execution_count": null,
   "metadata": {},
   "outputs": [],
   "source": [
    "def kayitListele():\n",
    "    sozluk={\"1\":{\"isimsoyisim\":\"Semih Sarın\",\"meslek\":\"Bilgisayar Mühendisi\",\"eğitim\":\"Lisans\"},\n",
    "            \"2\":{\"isimsoyisim\":\"Ahmet Yaşar\",\"meslek\":\"Doktor\",\"eğitim\":\"Doktora\"},\n",
    "            \"3\":{\"isimsoyisim\":\"Pelin Ölmez\",\"meslek\":\"Öğretmen\",\"eğitim\":\"Yüksek Lisans\"}\n",
    "    }\n",
    "    print(\"ID         İsim  Soyisim        Meslek\")\n",
    "    print(\"---------------------------------------\")\n",
    "    \n",
    "    for i in sozluk:\n",
    "        print(str(i),sozluk[str(i)][\"isimsoyisim\"],sozluk[str(i)][\"meslek\"],sep=\"          \")\n",
    "\n",
    "kayitListele()"
   ]
  },
  {
   "cell_type": "code",
   "execution_count": null,
   "metadata": {},
   "outputs": [],
   "source": [
    "def faktoriyel(sayi):\n",
    "    if sayi==1:return 1\n",
    "    else: return sayi*faktoriyel(sayi-1)\n",
    "    \n",
    "\n",
    "sayi=int(input(\"Sayı giriniz: \"))\n",
    "print(faktoriyel(sayi))"
   ]
  },
  {
   "cell_type": "code",
   "execution_count": null,
   "metadata": {},
   "outputs": [],
   "source": [
    "import threading\n",
    "import time \n",
    "\n",
    "def mesajYaz(mesaj):\n",
    "    i=1\n",
    "    while True:\n",
    "        print(f\"{i}. kez {mesaj}\")\n",
    "        i+=1\n",
    "        time.sleep(1)\n",
    "\n",
    "def Carp(a,b):\n",
    "    while True:\n",
    "        print(a*b)\n",
    "        print(threading.activeCount())\n",
    "        print(threading.enumerate())\n",
    "        time.sleep(1)\n",
    "\n",
    "t1=threading.Thread(target=mesajYaz,args=(\"Hello World\",))\n",
    "t2=threading.Thread(target=Carp,args=(5,6))\n",
    "t1.start()\n",
    "t2.start()"
   ]
  },
  {
   "cell_type": "code",
   "execution_count": null,
   "metadata": {},
   "outputs": [],
   "source": [
    "import queue\n",
    "q= queue.Queue()\n",
    "for harf in \"Merhaba\":\n",
    "    q.put(harf)\n",
    "\n",
    "while not q.empty():\n",
    "    print (q.get(),end=\",\")\n",
    "\n",
    "import queue\n",
    "q=queue.PriorityQueue()\n",
    "\n",
    "q.put((2,\"e\"))\n",
    "q.put((3,\"r\"))\n",
    "q.put((6,\"b\"))\n",
    "q.put((1,\"M\"))\n",
    "q.put((5,\"a\"))\n",
    "q.put((4,\"h\"))\n",
    "q.put((7,\"a\"))\n",
    "print(q.get()[1])\n",
    "print(q.get()[1])\n",
    "print(q.get()[1])\n",
    "print(q.get()[1])\n",
    "print(q.get()[1])\n",
    "print(q.get()[1])\n",
    "print(q.get()[1])\n",
    "\n",
    "while not q.empty():\n",
    "    print(q.get()[1], end=\",\")"
   ]
  },
  {
   "cell_type": "code",
   "execution_count": null,
   "metadata": {},
   "outputs": [],
   "source": [
    "from functools import reduce\n",
    "def Faktoriyel(sayi1,sayi2):\n",
    "    return sayi1*sayi2\n",
    "liste=range(1,10)\n",
    "print(reduce(Faktoriyel,liste))"
   ]
  },
  {
   "cell_type": "code",
   "execution_count": null,
   "metadata": {},
   "outputs": [],
   "source": [
    "sozluk={\"1\":{\"isim\":\"Semih Sarı\",\"meslek\":\"Bilgisayar Mühendisi\",\"eğitim\":\"Lisans\"},\n",
    "        \"2\":{\"isim\":\"Ahmet Yaşar\",\"meslek\":\"Doktor\",\"eğitim\":\"Doktora\"}\n",
    "}\n",
    "\n",
    "print(sozluk[\"1\"])\n",
    "print(type(sozluk))"
   ]
  }
 ],
 "metadata": {
  "kernelspec": {
   "display_name": "Python 3",
   "language": "python",
   "name": "python3"
  },
  "language_info": {
   "codemirror_mode": {
    "name": "ipython",
    "version": 3
   },
   "file_extension": ".py",
   "mimetype": "text/x-python",
   "name": "python",
   "nbconvert_exporter": "python",
   "pygments_lexer": "ipython3",
   "version": "3.10.8 (tags/v3.10.8:aaaf517, Oct 11 2022, 16:50:30) [MSC v.1933 64 bit (AMD64)]"
  },
  "orig_nbformat": 4,
  "vscode": {
   "interpreter": {
    "hash": "d838ae811a2339c5ac99f228e2b92540d31c293e582cf8d785120c368b9570f2"
   }
  }
 },
 "nbformat": 4,
 "nbformat_minor": 2
}
